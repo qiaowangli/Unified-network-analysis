{
  "cells": [
    {
      "cell_type": "code",
      "execution_count": 1,
      "metadata": {
        "id": "4eqUx_Zamiha"
      },
      "outputs": [],
      "source": [
        "import pandas as pd\n",
        "import networkx as nx\n",
        "import networkx as nx\n",
        "import matplotlib.pyplot as plt\n",
        "from networkx.algorithms.community import girvan_newman\n",
        "import itertools\n",
        "\n",
        "import numpy as np\n",
        "\n",
        "np.random.seed(1)\n",
        "\n",
        "\n",
        "csv_file_path = '/content/ProcessedFalseScaled.csv'\n",
        "\n",
        "df = pd.read_csv(csv_file_path)\n",
        "\n",
        "G_false = nx.Graph()\n",
        "\n",
        "for index, row in df.iterrows():\n",
        "    G_false.add_edge(row['Source'], row['Target'], weight=row['Co_Occurrence'])"
      ]
    },
    {
      "cell_type": "code",
      "execution_count": 2,
      "metadata": {
        "id": "FL5_Xx-QqfHq"
      },
      "outputs": [],
      "source": [
        "import numpy as np\n",
        "\n",
        "np.random.seed(1)\n",
        "\n",
        "\n",
        "csv_file_path = '/content/ProcessedTrueScaled.csv'\n",
        "\n",
        "df = pd.read_csv(csv_file_path)\n",
        "\n",
        "G_true = nx.Graph()\n",
        "\n",
        "for index, row in df.iterrows():\n",
        "    G_true.add_edge(row['Source'], row['Target'], weight=row['Co_Occurrence'])"
      ]
    },
    {
      "cell_type": "code",
      "execution_count": 3,
      "metadata": {
        "colab": {
          "base_uri": "https://localhost:8080/"
        },
        "id": "B95OvvDjwoTb",
        "outputId": "e83623ce-c893-43a8-84f7-1b743316a254"
      },
      "outputs": [
        {
          "name": "stdout",
          "output_type": "stream",
          "text": [
            "2614\n",
            "2425\n",
            "3354\n"
          ]
        }
      ],
      "source": [
        "import numpy as np\n",
        "\n",
        "np.random.seed(1)\n",
        "\n",
        "all_nodes_false = list(G_false.nodes)\n",
        "print(len(all_nodes_false))\n",
        "all_nodes_true = list(G_true.nodes)\n",
        "print(len(all_nodes_true))\n",
        "\n",
        "merged_nodes = list(set(all_nodes_false + all_nodes_true))\n",
        "\n",
        "print(len(merged_nodes))"
      ]
    },
    {
      "cell_type": "code",
      "execution_count": 4,
      "metadata": {
        "id": "v7KIEMAJDUKw"
      },
      "outputs": [],
      "source": [
        "import numpy as np\n",
        "\n",
        "np.random.seed(1)\n",
        "\n",
        "\n",
        "csv_file_path_false = '/content/ProcessedFalseScaled.csv'\n",
        "csv_file_path_true = '/content/ProcessedTrueScaled.csv'\n",
        "\n",
        "df_false = pd.read_csv(csv_file_path_false)\n",
        "df_true = pd.read_csv(csv_file_path_true)\n",
        "\n",
        "G_initial = nx.Graph()\n",
        "\n",
        "for index, row in df_false.iterrows():\n",
        "    G_initial.add_edge(row['Source'], row['Target'], weight=row['Co_Occurrence'])\n",
        "\n",
        "for index, row in df_true.iterrows():\n",
        "    G_initial.add_edge(row['Source'], row['Target'], weight=row['Co_Occurrence'])\n",
        "\n",
        "# all_nodes_false = list(G_false.nodes)\n",
        "# print(len(all_nodes_false))\n",
        "# all_nodes_true = list(G_true.nodes)\n",
        "# print(len(all_nodes_true))\n",
        "\n",
        "# gml_file_path = 'G_initial.gml'\n",
        "# nx.write_gml(G_initial, gml_file_path)\n"
      ]
    },
    {
      "cell_type": "code",
      "execution_count": 5,
      "metadata": {
        "id": "NJaIcOLDEUsl"
      },
      "outputs": [],
      "source": [
        "import numpy as np\n",
        "\n",
        "np.random.seed(1)\n",
        "\n",
        "gml_file_path = 'G_initial.gml'\n",
        "nx.write_gml(G_initial, gml_file_path)"
      ]
    },
    {
      "cell_type": "code",
      "execution_count": 6,
      "metadata": {
        "id": "ya6Asie01gAM"
      },
      "outputs": [],
      "source": [
        "import numpy as np\n",
        "\n",
        "np.random.seed(1)\n",
        "\n",
        "\n",
        "csv_file_path_false = '/content/ProcessedFalseScaled.csv'\n",
        "csv_file_path_true = '/content/ProcessedTrueScaled.csv'\n",
        "\n",
        "df_false = pd.read_csv(csv_file_path_false)\n",
        "df_true = pd.read_csv(csv_file_path_true)\n",
        "\n",
        "G_initial_step2 = nx.Graph()\n",
        "\n",
        "for index, row in df_false.iterrows():\n",
        "    G_initial_step2.add_edge(row['Source'], row['Target'], weight=row['Co_Occurrence'])\n",
        "\n",
        "for index, row in df_true.iterrows():\n",
        "    G_initial_step2.add_edge(row['Source'], row['Target'], weight=row['Co_Occurrence'])\n",
        "\n",
        "for node in G_initial_step2.nodes():\n",
        "    if node in G_false and node in G_true:\n",
        "        G_initial_step2.nodes[node]['truth'] = 'mix'\n",
        "    elif node in G_false:\n",
        "        G_initial_step2.nodes[node]['truth'] = 'false'\n",
        "    elif node in G_true:\n",
        "        G_initial_step2.nodes[node]['truth'] = 'true'\n",
        "    else:\n",
        "        G_initial_step2.nodes[node]['truth'] = 'unknown'\n",
        "\n",
        "\n",
        "closeness_false = nx.closeness_centrality(G_false)\n",
        "closeness_true = nx.closeness_centrality(G_true)\n",
        "\n",
        "for node, data in G_initial_step2.nodes(data=True):\n",
        "    if data['truth'] == 'mix':\n",
        "        closeness_score_false = closeness_false.get(node, 0) \n",
        "        closeness_score_true = closeness_true.get(node, 0)\n",
        "\n",
        "        if closeness_score_false > closeness_score_true:\n",
        "            G_initial_step2.nodes[node]['truth'] = 'false'\n",
        "        elif closeness_score_true > closeness_score_false:\n",
        "            G_initial_step2.nodes[node]['truth'] = 'true'\n",
        "\n",
        "\n",
        "gml_file_path = 'G_initial_step3.gml'\n",
        "nx.write_gml(G_initial_step2, gml_file_path)\n"
      ]
    },
    {
      "cell_type": "code",
      "execution_count": null,
      "metadata": {
        "colab": {
          "base_uri": "https://localhost:8080/",
          "height": 536
        },
        "id": "9XyuSBIcYXNc",
        "outputId": "2ad5d505-c68f-44a4-f224-62bd5e855d2a"
      },
      "outputs": [],
      "source": [
        "import networkx as nx\n",
        "import matplotlib.pyplot as plt\n",
        "import numpy as np\n",
        "\n",
        "gml_file_path = '/content/G_initial_step3.gml'\n",
        "G = nx.read_gml(gml_file_path)\n",
        "\n",
        "x_coords = {'true': 0, 'false': 1, 'mix': 2}\n",
        "\n",
        "pos = {node: (x_coords[G.nodes[node]['truth']], np.random.uniform()) for node in G.nodes()}\n",
        "\n",
        "k_core_graph = nx.k_core(G, k=75)\n",
        "\n",
        "k_core_pos = {node: pos[node] for node in k_core_graph.nodes()}\n",
        "\n",
        "\n",
        "truth_colors = {\n",
        "    'true': '#FF7F0E',\n",
        "    'false': '#7F7FED',\n",
        "    'mix': '#2CA02C',\n",
        "}\n",
        "\n",
        "\n",
        "k_core_node_colors = [truth_colors[k_core_graph.nodes[node]['truth']] for node in k_core_graph.nodes()]\n",
        "k_core_node_sizes = [k_core_graph.degree(node) * 10 for node in k_core_graph.nodes()]\n",
        "\n",
        "plt.figure(figsize=(12, 5))\n",
        "nx.draw(k_core_graph, k_core_pos, with_labels=False, node_color=k_core_node_colors, node_size=k_core_node_sizes, edge_color='lightblue')\n",
        "plt.savefig('/content/step3.png', bbox_inches='tight')\n",
        "\n",
        "plt.show()\n"
      ]
    },
    {
      "cell_type": "code",
      "execution_count": null,
      "metadata": {
        "colab": {
          "base_uri": "https://localhost:8080/",
          "height": 564
        },
        "id": "YbT4B_LDfVOQ",
        "outputId": "a85011b3-4eb4-4c15-e724-bf6be3352d29"
      },
      "outputs": [],
      "source": [
        "import matplotlib.pyplot as plt\n",
        "import networkx as nx\n",
        "\n",
        "gml_file_path = '/content/G_initial_step3.gml'\n",
        "G = nx.read_gml(gml_file_path)\n",
        "\n",
        "truth_counts = {'true': 0, 'false': 0, 'mix': 0}\n",
        "for node in G.nodes(data=True):\n",
        "    truth = node[1]['truth']\n",
        "    if truth in truth_counts:\n",
        "        truth_counts[truth] += 1\n",
        "\n",
        "# \n",
        "labels = list(truth_counts.keys())\n",
        "\n",
        "values = list(truth_counts.values())\n",
        "colors = ['#FF7F0E','#7F7FED','#2CA02C']\n",
        "\n",
        "\n",
        "plt.figure(figsize=(8, 6))\n",
        "plt.bar(labels, values, color=colors)\n",
        "plt.ylabel('Count')\n",
        "plt.title('Distribution of language label')\n",
        "plt.xticks(rotation=45)\n",
        "plt.savefig('histogram.png')\n",
        "plt.show()\n"
      ]
    },
    {
      "cell_type": "code",
      "execution_count": null,
      "metadata": {
        "colab": {
          "base_uri": "https://localhost:8080/"
        },
        "id": "hDAFfBdcmbKu",
        "outputId": "5bd3ad42-4e7e-4a6b-87bc-9be96ef6c541"
      },
      "outputs": [],
      "source": [
        "import community.community_louvain\n",
        "from collections import Counter\n",
        "\n",
        "\n",
        "import numpy as np\n",
        "\n",
        "np.random.seed(1)\n",
        "\n",
        "\n",
        "gml_file_path = '/content/G_initial_step3.gml'\n",
        "G = nx.read_gml(gml_file_path)\n",
        "\n",
        "partition = community.community_louvain.best_partition(G)\n",
        "\n",
        "community_sizes = Counter(partition.values())\n",
        "\n",
        "\n",
        "print(community_sizes)\n",
        "\n"
      ]
    },
    {
      "cell_type": "code",
      "execution_count": 11,
      "metadata": {
        "id": "-NCxSStHIaaj"
      },
      "outputs": [],
      "source": [
        "for node, community_id in partition.items():\n",
        "    nx.set_node_attributes(G, {node: {'community': community_id}})\n",
        "\n",
        "updated_gml_file_path = 'G_with_communities.gml'\n",
        "nx.write_gml(G, updated_gml_file_path)\n",
        "\n"
      ]
    },
    {
      "cell_type": "code",
      "execution_count": null,
      "metadata": {
        "colab": {
          "base_uri": "https://localhost:8080/",
          "height": 759
        },
        "id": "p7RMFn984xJT",
        "outputId": "77fec128-3528-4eb0-e2dc-225fd65d40d0"
      },
      "outputs": [],
      "source": [
        "import community.community_louvain\n",
        "from collections import Counter\n",
        "from scipy.stats import ttest_ind\n",
        "\n",
        "import numpy as np\n",
        "\n",
        "np.random.seed(1)\n",
        "\n",
        "\n",
        "gml_file_path = '/content/G_initial_step3.gml'\n",
        "G = nx.read_gml(gml_file_path)\n",
        "\n",
        "partition = community.community_louvain.best_partition(G)\n",
        "\n",
        "\n",
        "community_sizes = Counter(partition.values())\n",
        "\n",
        "\n",
        "community_truth_counts = {comm_id: {'true': 0, 'false': 0} for comm_id in community_sizes}\n",
        "\n",
        "for node, comm_id in partition.items():\n",
        "    truth_value = G.nodes[node]['truth']\n",
        "    if truth_value in ['true', 'false']:\n",
        "        community_truth_counts[comm_id][truth_value] += 1\n",
        "\n",
        "sorted_communities_by_size = sorted(community_sizes.items(), key=lambda x: x[1], reverse=True)\n",
        "\n",
        "\n",
        "true_ratios = [community_truth_counts[comm]['true'] / sum(community_truth_counts[comm].values()) for comm, _ in sorted_communities_by_size if sum(community_truth_counts[comm].values()) > 0]\n",
        "false_ratios = [community_truth_counts[comm]['false'] / sum(community_truth_counts[comm].values()) for comm, _ in sorted_communities_by_size if sum(community_truth_counts[comm].values()) > 0]\n",
        "\n",
        "\n",
        "\n",
        "t_stat, p_value = ttest_ind(false_ratios[:-1], true_ratios[:-1], alternative='greater')\n",
        "\n",
        "print(\"One-sided T-test results for checking if false is greater than true:\")\n",
        "print(f\"T-statistic: {t_stat}\")\n",
        "print(f\"P-value: {p_value}\")\n",
        "\n",
        "\n",
        "community_labels = [f\"Comm {comm}\\n({size})\" for comm, size in sorted_communities_by_size]\n",
        "\n",
        "plt.figure(figsize=(14, 7))\n",
        "plt.bar(community_labels, true_ratios, color='skyblue', label='True Node Ratio')\n",
        "plt.bar(community_labels, false_ratios, bottom=true_ratios, color='salmon', label='False Node Ratio')\n",
        "\n",
        "\n",
        "plt.axhline(y=0.5, color='purple', linestyle='-', linewidth=2)\n",
        "\n",
        "\n",
        "plt.xlabel('Community ID (Size)')\n",
        "plt.ylabel('Node Ratio')\n",
        "plt.title('True and False Node Ratios in Each Community (Sorted by Community Size)')\n",
        "plt.xticks(rotation=45)\n",
        "plt.legend()\n",
        "plt.tight_layout()\n",
        "\n",
        "\n",
        "\n",
        "output_file_path = 'G_step4.png'\n",
        "plt.savefig(output_file_path)\n",
        "\n",
        "plt.show()"
      ]
    },
    {
      "cell_type": "code",
      "execution_count": 12,
      "metadata": {
        "id": "yjL3Zeq87l70"
      },
      "outputs": [],
      "source": []
    },
    {
      "cell_type": "code",
      "execution_count": 12,
      "metadata": {
        "id": "IEjG0tpm7maa"
      },
      "outputs": [],
      "source": []
    },
    {
      "cell_type": "code",
      "execution_count": 12,
      "metadata": {
        "id": "mDSkeryP7mcm"
      },
      "outputs": [],
      "source": []
    },
    {
      "cell_type": "code",
      "execution_count": 12,
      "metadata": {
        "id": "SwyJkUZY7me8"
      },
      "outputs": [],
      "source": []
    }
  ],
  "metadata": {
    "colab": {
      "provenance": []
    },
    "kernelspec": {
      "display_name": "Python 3",
      "name": "python3"
    },
    "language_info": {
      "name": "python"
    }
  },
  "nbformat": 4,
  "nbformat_minor": 0
}
